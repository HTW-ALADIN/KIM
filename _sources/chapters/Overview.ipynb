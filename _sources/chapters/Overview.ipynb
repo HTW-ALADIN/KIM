{
 "cells": [
  {
   "attachments": {},
   "cell_type": "markdown",
   "metadata": {},
   "source": [
    "# Workshopablauf"
   ]
  },
  {
   "attachments": {},
   "cell_type": "markdown",
   "metadata": {},
   "source": [
    "## Begrüßung und Vorstellungsrunde\n",
    "\n",
    "### Übergabe der Materialien und Login für die Online-Plattform\n",
    "\n",
    "## Kreeiren deiner eigenen Superheldin!\n",
    "\n",
    "## Abschluss und Beantwortung eurer Fragen\n",
    "\n",
    "## Verabschiedung"
   ]
  }
 ],
 "metadata": {
  "language_info": {
   "name": "python"
  },
  "orig_nbformat": 4
 },
 "nbformat": 4,
 "nbformat_minor": 2
}
