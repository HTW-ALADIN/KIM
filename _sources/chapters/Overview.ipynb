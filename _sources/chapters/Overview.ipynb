{
 "cells": [
  {
   "attachments": {},
   "cell_type": "markdown",
   "metadata": {},
   "source": [
    "# Workshopablauf"
   ]
  },
  {
   "attachments": {},
   "cell_type": "markdown",
   "metadata": {},
   "source": [
    "## Begrüßung und Vorstellungsrunde\n",
    "\n",
    "### Einleitung\n",
    "\n",
    "## Kreeiren deiner eigenen Superheldin!\n",
    "\n",
    "## Beantwortung eurer Fragen\n",
    "\n",
    "## Abschluss und Verabschiedung"
   ]
  }
 ],
 "metadata": {
  "language_info": {
   "name": "python"
  },
  "orig_nbformat": 4
 },
 "nbformat": 4,
 "nbformat_minor": 2
}
