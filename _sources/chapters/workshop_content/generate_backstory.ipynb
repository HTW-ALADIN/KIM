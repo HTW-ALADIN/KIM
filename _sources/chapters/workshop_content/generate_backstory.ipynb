{
 "cells": [
  {
   "attachments": {},
   "cell_type": "markdown",
   "metadata": {},
   "source": [
    "# Erzeuge Textgeschichten mit \"*Sprachmodellen*\"."
   ]
  },
  {
   "attachments": {},
   "cell_type": "markdown",
   "metadata": {},
   "source": [
    "## Aber was ist ein Sprachmodell eigentlich?\n",
    "\n",
    "```{figure} ../../_static/img/chatgpt.jpg\n",
    "---\n",
    "alt: ChatGPT\n",
    "width: 200px\n",
    "align: center\n",
    "name: chatgpt_fig\n",
    "---\n",
    "ChatGPT gibt einen Geschenkvorschlag für ein 16 jähriges Mädchen.\n",
    "```"
   ]
  },
  {
   "attachments": {},
   "cell_type": "markdown",
   "metadata": {},
   "source": [
    "## Und wie funktioniert das..?\n",
    "\n",
    "```{figure} ../../_static/img/autocomplete.jpg\n",
    "---\n",
    "alt: AutoComplete\n",
    "width: 200px\n",
    "align: center\n",
    "name: autocomplete_fig\n",
    "---\n",
    "Die \"Autocomplete\"-Funktion auf dem Handy ist ein sehr simples \"Sprachmodell\".\n",
    "```"
   ]
  },
  {
   "attachments": {},
   "cell_type": "markdown",
   "metadata": {},
   "source": [
    "## Wie sage ich dem Modell was ich will?\n",
    "\n",
    "Sprachmodelle sind in der Lage, Texte basierend auf einem Input, einem sogenannten **Prompt**, zu generieren. \n",
    "Das heißt, wenn wir dem Modell einen Satzanfang geben, wird es versuchen, den Satz zu vervollständigen. \n",
    "\n",
    "```\n",
    "Prompt: Ich bin heute morgen aufgewacht und\n",
    "```\n",
    "\n",
    "```\n",
    "Output: Ich bin heute morgen aufgewacht und habe mich gefragt, was ich heute machen soll.\n",
    "```"
   ]
  },
  {
   "attachments": {},
   "cell_type": "markdown",
   "metadata": {},
   "source": [
    "Du kannst dem Sprachmodell aber auch eine konkrete Anweisung geben was es tun soll.\n",
    "\n",
    "```\n",
    "Prompt: Erstell mir ein Rezept für einen leckeren Obstkuchen ohne künstlichen Zuckerzusatz. Die Früchte sollen regional und saisonal sein. Jetzt ist gerade Frühling und wir sind im Osten von Deutschland.\n",
    "```\n",
    "```\n",
    "Output: Klar, ich helfe gerne! Hier ist ein Rezept für einen leckeren Obstkuchen ohne künstlichen Zuckerzusatz, der mit saisonalen Früchten aus der Region zubereitet wird:\n",
    "\n",
    "Zutaten:\n",
    "\n",
    "200 g Dinkelmehl\n",
    "100 g gemahlene Mandeln\n",
    "1 TL Backpulver\n",
    "1 TL Zimt\n",
    "1/2 TL gemahlene Vanille\n",
    "1 Prise Salz\n",
    "80 g Butter (Raumtemperatur)\n",
    "2 Eier\n",
    "80 ml Milch\n",
    "500 g saisonale Früchte (z.B. Erdbeeren oder Rhabarber)\n",
    "Saft einer halben Zitrone\n",
    "\n",
    "Anleitung:\n",
    "\n",
    "1. Heize den Backofen auf 180°C (Umluft) vor. Lege eine Springform (24 cm Durchmesser) mit Backpapier aus.\n",
    "2. Wasche die Früchte gründlich und schneide sie in kleine Stücke. Vermische sie in einer Schüssel mit dem Zitronensaft und stelle sie beiseite.\n",
    "3. Vermische das Dinkelmehl, die gemahlenen Mandeln, das Backpulver, den Zimt, die gemahlene Vanille und das Salz in einer Schüssel.\n",
    "4. In einer anderen Schüssel rührst du die Butter mit einem Handmixer auf, bis sie cremig ist. Füge die Eier hinzu und rühre weiter, bis sie gut vermischt sind.\n",
    "5. Füge nun die trockenen Zutaten in die Schüssel mit der Butter-Ei-Mischung hinzu und rühre alles gut durch. Füge dann die Milch hinzu und rühre nochmal alles gut durch.\n",
    "6. Gib den Teig in die vorbereitete Springform und verteile die Früchte gleichmäßig darauf.\n",
    "7. Backe den Obstkuchen im vorgeheizten Ofen für 40-45 Minuten oder bis er goldbraun ist und ein Zahnstocher in der Mitte sauber herauskommt.\n",
    "8. Nimm den Kuchen aus dem Ofen und lasse ihn in der Springform abkühlen, bevor du ihn vorsichtig herausnimmst und servierst.\n",
    "\n",
    "Guten Appetit!\n",
    "```"
   ]
  },
  {
   "attachments": {},
   "cell_type": "markdown",
   "metadata": {},
   "source": [
    "## Sei dabei so genau wie möglich und versuche zu verstehen wie dein Kommunikationspartner denkt.\n",
    "\n",
    "```{figure} ../../_static/img/tire-swing-cartoon.jpg\n",
    "---\n",
    "alt: RequirementEngineering\n",
    "width: 200px\n",
    "align: center\n",
    "name: Requirements_fig\n",
    "---\n",
    "Fehlkommunikation bei der Anforderungsbeschreibung.\n",
    "```\n",
    "\n",
    "**Sonst kommt leider Quatsch raus.**"
   ]
  },
  {
   "attachments": {},
   "cell_type": "markdown",
   "metadata": {},
   "source": [
    "## Jetzt bist du an der Reihe!\n",
    "\n",
    "[Klick mich!](https://colab.research.google.com/drive/1lP9NqDXk731vN0q8kpn8_ahxECRjHTW4)"
   ]
  }
 ],
 "metadata": {
  "kernelspec": {
   "display_name": "Python 3",
   "language": "python",
   "name": "python3"
  },
  "language_info": {
   "name": "python",
   "version": "3.11.0"
  },
  "orig_nbformat": 4
 },
 "nbformat": 4,
 "nbformat_minor": 2
}
