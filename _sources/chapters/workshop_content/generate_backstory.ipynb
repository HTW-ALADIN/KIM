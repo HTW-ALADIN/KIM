{
 "cells": [
  {
   "attachments": {},
   "cell_type": "markdown",
   "metadata": {},
   "source": [
    "# Generiere die Hintergrundgeschichte deiner Superheldin!"
   ]
  },
  {
   "attachments": {},
   "cell_type": "markdown",
   "metadata": {},
   "source": [
    "Im Folgenden wird ein so genanntes Sprachmodell geladen. Dieses kann basierend auf einer kleinen Textbeschreibung vollständige Geschichten erzeugen. Dieses Modell werden wir nachfolgend verwenden um deine ganz individuelle Superheldin zu beschreiben."
   ]
  },
  {
   "cell_type": "code",
   "execution_count": null,
   "metadata": {},
   "outputs": [],
   "source": [
    "# TODO Load Language Model here - Maybe with Hugging Face Transformers"
   ]
  },
  {
   "cell_type": "code",
   "execution_count": null,
   "metadata": {},
   "outputs": [],
   "source": [
    "# Beschreibe hier wer deine Superheldin ist um die Story zu generieren\n",
    "prompt = \"\"\n",
    "\n",
    "# TODO Model inference here"
   ]
  }
 ],
 "metadata": {
  "kernelspec": {
   "display_name": "Python 3",
   "language": "python",
   "name": "python3"
  },
  "language_info": {
   "name": "python",
   "version": "3.11.0"
  },
  "orig_nbformat": 4
 },
 "nbformat": 4,
 "nbformat_minor": 2
}
