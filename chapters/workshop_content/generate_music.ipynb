{
 "cells": [
  {
   "attachments": {},
   "cell_type": "markdown",
   "metadata": {},
   "source": [
    "# Generiere den Titelsong zu deiner Superheldin!"
   ]
  },
  {
   "attachments": {},
   "cell_type": "markdown",
   "metadata": {},
   "source": [
    "Im Folgenden wird ein Audiomodell geladen. Dieses kann basierend auf einer kleinen Textbeschreibung Musik komponieren. Dieses Modell werden wir nachfolgend verwenden um einen Song zu deiner ganz individuelle Superheldin zu komponieren."
   ]
  },
  {
   "cell_type": "code",
   "execution_count": null,
   "metadata": {},
   "outputs": [],
   "source": [
    "# TODO Load Audio-Diffusion Model here - Maybe with Hugging Face Transformers"
   ]
  },
  {
   "cell_type": "code",
   "execution_count": null,
   "metadata": {},
   "outputs": [],
   "source": [
    "# Beschreibe hier wie deine Superheldin aussieht um den Avatar zu generieren\n",
    "prompt = \"\"\n",
    "\n",
    "# TODO Model inference here"
   ]
  }
 ],
 "metadata": {
  "kernelspec": {
   "display_name": "Python 3",
   "language": "python",
   "name": "python3"
  },
  "language_info": {
   "name": "python",
   "version": "3.11.0"
  },
  "orig_nbformat": 4
 },
 "nbformat": 4,
 "nbformat_minor": 2
}
