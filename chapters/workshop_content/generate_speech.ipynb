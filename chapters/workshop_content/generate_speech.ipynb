{
 "cells": [
  {
   "attachments": {},
   "cell_type": "markdown",
   "metadata": {},
   "source": [
    "# Generiere die Narration deiner Superheldinnengeschichte mit deiner Stimme!"
   ]
  },
  {
   "attachments": {},
   "cell_type": "markdown",
   "metadata": {},
   "source": [
    "Im Folgenden wird ein TTS(Text to Speech)-modell geladen. Dieses kann basierend auf deiner Audioaufnahme beliebigen Text in deiner Stimme sprechen. Dieses Modell werden wir nachfolgend verwenden um die generierte Hintergrundgeschichte deiner Superheldin narratieren zu lassen."
   ]
  },
  {
   "cell_type": "code",
   "execution_count": null,
   "metadata": {},
   "outputs": [],
   "source": [
    "# TODO Load TTS-Model here - Maybe with Hugging Face Transformers"
   ]
  },
  {
   "cell_type": "code",
   "execution_count": null,
   "metadata": {},
   "outputs": [],
   "source": [
    "# Beschreibe hier wie deine Superheldin aussieht um den Avatar zu generieren\n",
    "prompt = \"\"\n",
    "\n",
    "# TODO Model inference here"
   ]
  }
 ],
 "metadata": {
  "kernelspec": {
   "display_name": "Python 3",
   "language": "python",
   "name": "python3"
  },
  "language_info": {
   "name": "python",
   "version": "3.11.0"
  },
  "orig_nbformat": 4
 },
 "nbformat": 4,
 "nbformat_minor": 2
}
