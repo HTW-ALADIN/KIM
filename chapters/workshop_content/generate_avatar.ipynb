{
 "cells": [
  {
   "attachments": {},
   "cell_type": "markdown",
   "metadata": {},
   "source": [
    "# Generiere den Avatar deiner Superheldin!"
   ]
  },
  {
   "attachments": {},
   "cell_type": "markdown",
   "metadata": {},
   "source": [
    "Im Folgenden wird ein Bildgenerierungsmodell geladen. Dieses kann basierend auf einer kleinen Textbeschreibung beliebige Bilder erzeugen. Dieses Modell werden wir nachfolgend verwenden um eine Abbildung deiner ganz individuelle Superheldin zu kreeieren."
   ]
  },
  {
   "cell_type": "code",
   "execution_count": null,
   "metadata": {},
   "outputs": [],
   "source": [
    "# TODO Load Diffusion Model here - Maybe with Hugging Face Transformers"
   ]
  },
  {
   "cell_type": "code",
   "execution_count": null,
   "metadata": {},
   "outputs": [],
   "source": [
    "# Beschreibe hier wie deine Superheldin aussieht um den Avatar zu generieren\n",
    "prompt = \"\"\n",
    "\n",
    "# TODO Model inference here"
   ]
  }
 ],
 "metadata": {
  "kernelspec": {
   "display_name": "Python 3",
   "language": "python",
   "name": "python3"
  },
  "language_info": {
   "name": "python",
   "version": "3.11.0"
  },
  "orig_nbformat": 4
 },
 "nbformat": 4,
 "nbformat_minor": 2
}
