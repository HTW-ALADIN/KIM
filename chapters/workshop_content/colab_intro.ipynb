{
 "cells": [
  {
   "attachments": {},
   "cell_type": "markdown",
   "metadata": {},
   "source": [
    "# Einleitung"
   ]
  },
  {
   "attachments": {},
   "cell_type": "markdown",
   "metadata": {},
   "source": [
    "## Wo bin ich hier?\n",
    "\n",
    "Diese Webseite ist ein so genanntes *Jupyter Notebook*. In diesem Notebook können kleine selbstgeschrieben Programme ausgeführt und für andere leicht zugänglich und verständlich dokumentiert werden. Notebooks verstehen viele Programmiersprachen, dieses Notebook verwendet aber lediglich die Programmiersprache `Python`.\n",
    "\n",
    "Damit die Programme in einem Notebook ausgeführt werden können, muss ein Computer *Rechenressourcen* bereitstellen. Diese Ressourcen werden von Google kostenfrei unter der Webseite - *Colab* - zur Verfügung gestellt. Ihr könnt selbst auch einfach diese Ressourcen mittels Colab nutzen, um eure eigenen Programme zu schreiben oder die von anderen auszuprobieren."
   ]
  },
  {
   "attachments": {},
   "cell_type": "markdown",
   "metadata": {},
   "source": [
    "## Wie benutze ich das?\n",
    "\n",
    "Ein Notebook besteht aus mehreren so genannten *Zellen*, welche zwei verschiedene Formen annehmen können:\n",
    "\n",
    "*   Textzellen\n",
    "*   Codezellen\n",
    "\n",
    "Textzellen können nicht ausgeführt werden. Diese dienen nur dazu um Text anzuzeigen, wie beispielsweise die Zelle die ihr gerade lest.\n",
    "\n",
    "Codezellen dagegen enthalten kleine Programme welche man ausführen kann. Diese kann man an mehreren Dingen erkennen:\n",
    "\n",
    "*   Der darin enthaltene Text sieht sehr unverständlich aus,\n",
    "*   wenn der Zelleninhalt versteckt ist, wird lediglich der Text \"`Code anzeigen`\" dargestellt,\n",
    "*   am Beginn der Zelle ist ein kleines Symbol (Playbutton) mit einem dunklen Dreieck in einem kleinen Kreis.\n",
    "\n",
    "Um das in einer Codezelle enthaltene Programm auszuführen, muss man auf den Playbutton klicken. Sobald das Symbol aufhört sich zu drehen ist das Programm fertig.\n",
    "\n",
    "Versuch es in der nachstehenden Zelle einmal aus!"
   ]
  },
  {
   "cell_type": "code",
   "execution_count": 5,
   "metadata": {},
   "outputs": [
    {
     "name": "stdout",
     "output_type": "stream",
     "text": [
      "Hello World!\n"
     ]
    }
   ],
   "source": [
    "import time\n",
    "time.sleep(2)\n",
    "print(\"Hello World!\")"
   ]
  },
  {
   "attachments": {},
   "cell_type": "markdown",
   "metadata": {},
   "source": [
    "## Was mache ich hier?\n",
    "\n",
    "Heute nutzen wir diese Notebooks speziell dazu, mittels **künstlicher Intelligenz** (**KI**) Medien automatisch nach eurer Anleitung zu erstellen. Das Thema heute sieht zwar vor dass ihr eure eigene Superheldin kreirt, ihr könnt eurer Fantasie aber freien Lauf lassen und die KI mit verschiedenen Anfragen testen."
   ]
  }
 ],
 "metadata": {
  "kernelspec": {
   "display_name": "Python 3",
   "language": "python",
   "name": "python3"
  },
  "language_info": {
   "codemirror_mode": {
    "name": "ipython",
    "version": 3
   },
   "file_extension": ".py",
   "mimetype": "text/x-python",
   "name": "python",
   "nbconvert_exporter": "python",
   "pygments_lexer": "ipython3",
   "version": "3.11.0"
  },
  "orig_nbformat": 4
 },
 "nbformat": 4,
 "nbformat_minor": 2
}
